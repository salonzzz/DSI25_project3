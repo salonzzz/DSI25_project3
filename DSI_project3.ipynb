{
 "cells": [
  {
   "cell_type": "markdown",
   "id": "b1933695",
   "metadata": {},
   "source": [
    "Problem Statement"
   ]
  },
  {
   "cell_type": "code",
   "execution_count": null,
   "id": "02ab757a",
   "metadata": {},
   "outputs": [],
   "source": []
  }
 ],
 "metadata": {
  "kernelspec": {
   "display_name": "Python 3",
   "language": "python",
   "name": "python3"
  },
  "language_info": {
   "codemirror_mode": {
    "name": "ipython",
    "version": 3
   },
   "file_extension": ".py",
   "mimetype": "text/x-python",
   "name": "python",
   "nbconvert_exporter": "python",
   "pygments_lexer": "ipython3",
   "version": "3.8.8"
  }
 },
 "nbformat": 4,
 "nbformat_minor": 5
}
